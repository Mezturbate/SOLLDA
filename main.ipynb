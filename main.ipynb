{
 "cells": [
  {
   "metadata": {},
   "cell_type": "markdown",
   "source": "# Adidas Webstore Shoe Data Analysis",
   "id": "6fc290e6a3266fac"
  },
  {
   "cell_type": "code",
   "id": "initial_id",
   "metadata": {
    "collapsed": true,
    "ExecuteTime": {
     "end_time": "2025-03-20T13:47:39.485609Z",
     "start_time": "2025-03-20T13:47:39.482339Z"
    }
   },
   "source": [
    "import pandas as pd\n",
    "import numpy as np\n",
    "import re"
   ],
   "outputs": [],
   "execution_count": 41
  },
  {
   "metadata": {},
   "cell_type": "markdown",
   "source": "## Preprocessing",
   "id": "a400f50ddeaa9030"
  },
  {
   "metadata": {
    "ExecuteTime": {
     "end_time": "2025-03-20T13:47:39.756173Z",
     "start_time": "2025-03-20T13:47:39.511352Z"
    }
   },
   "cell_type": "code",
   "source": [
    "country_dim = pd.read_csv(\"country_dim.csv\")   \n",
    "shoes_dim = pd.read_csv(\"shoes_dim.csv\")\n",
    "shoes_fact = pd.read_csv(\"shoes_fact.csv\")  "
   ],
   "id": "d23f62d182edb6d8",
   "outputs": [],
   "execution_count": 42
  },
  {
   "metadata": {
    "ExecuteTime": {
     "end_time": "2025-03-20T13:47:39.762696Z",
     "start_time": "2025-03-20T13:47:39.757806Z"
    }
   },
   "cell_type": "code",
   "source": "shoes_dim.drop_duplicates(subset=\"id\", keep=\"first\", inplace=True)",
   "id": "d916981a97e65a2b",
   "outputs": [],
   "execution_count": 43
  },
  {
   "metadata": {
    "ExecuteTime": {
     "end_time": "2025-03-20T13:47:39.860094Z",
     "start_time": "2025-03-20T13:47:39.763799Z"
    }
   },
   "cell_type": "code",
   "source": "shoes_fact = pd.merge(shoes_fact, shoes_dim, on=\"id\")",
   "id": "b6429a3337251c6f",
   "outputs": [],
   "execution_count": 44
  },
  {
   "metadata": {
    "ExecuteTime": {
     "end_time": "2025-03-20T13:47:40.036678Z",
     "start_time": "2025-03-20T13:47:39.861906Z"
    }
   },
   "cell_type": "code",
   "source": "shoes_fact = pd.merge(shoes_fact, country_dim, on=\"country_code\")",
   "id": "fd2e94bc884eded9",
   "outputs": [],
   "execution_count": 45
  },
  {
   "metadata": {
    "ExecuteTime": {
     "end_time": "2025-03-20T13:47:40.040773Z",
     "start_time": "2025-03-20T13:47:40.037644Z"
    }
   },
   "cell_type": "code",
   "source": "shoes_fact.rename(columns={\"Unnamed: 0\": \"serial_no\"}, inplace=True)",
   "id": "6f29df2137c46ffa",
   "outputs": [],
   "execution_count": 46
  },
  {
   "metadata": {
    "ExecuteTime": {
     "end_time": "2025-03-20T13:47:40.117152Z",
     "start_time": "2025-03-20T13:47:40.041980Z"
    }
   },
   "cell_type": "code",
   "source": "shoes_fact.drop(columns={\"image_url\"}, inplace=True)",
   "id": "425c5c9f2f7a6b8",
   "outputs": [],
   "execution_count": 47
  },
  {
   "metadata": {
    "ExecuteTime": {
     "end_time": "2025-03-20T13:47:40.279989Z",
     "start_time": "2025-03-20T13:47:40.119316Z"
    }
   },
   "cell_type": "code",
   "source": [
    "category_mapping = {\n",
    "    \"us/soccer-shoes\": \"football-shoes\",\n",
    "    \"us/walking-shoes\": \"walking-shoes\",\n",
    "    \"us/athletic_sneakers\": \"athletic_sneakers\",\n",
    "    \"us/running-shoes\": \"running-shoes\",\n",
    "    \"us/workout-shoes\": \"gym_training-shoes\",\n",
    "    \"us/hiking-shoes\": \"hiking-shoes\",\n",
    "    \"us/tennis-shoes\": \"tennis-shoes\",\n",
    "    \"occer-shoes\": \"football-shoes\"\n",
    "}\n",
    "\n",
    "shoes_fact[\"category\"] = shoes_fact[\"category\"].replace(category_mapping)"
   ],
   "id": "eaaa96c18a694e41",
   "outputs": [],
   "execution_count": 48
  },
  {
   "metadata": {
    "jupyter": {
     "is_executing": true
    },
    "ExecuteTime": {
     "start_time": "2025-03-20T13:47:40.281321Z"
    }
   },
   "cell_type": "code",
   "source": [
    "shoes_fact[\"size\"] = shoes_fact[\"size\"].str.replace(r\"(\\d+)\\s*1/3\", r\"\\1.33\", regex=True)\n",
    "shoes_fact[\"size\"] = shoes_fact[\"size\"].str.replace(r\"(\\d+)\\s*2/3\", r\"\\1.66\", regex=True)\n",
    "shoes_fact[\"size\"] = shoes_fact[\"size\"].str.replace(r\"(\\d+)\\s*1/2\", r\"\\1.5\", regex=True)"
   ],
   "id": "2006eb514728a022",
   "outputs": [],
   "execution_count": null
  },
  {
   "metadata": {
    "jupyter": {
     "is_executing": true
    }
   },
   "cell_type": "code",
   "source": [
    "mask = shoes_fact[\"date\"].str.contains(\"-\", na=False)\n",
    "shoes_fact.loc[mask, \"date\"] = shoes_fact.loc[mask, \"date\"].str.split(\"-\").str[::-1].str.join(\"/\")"
   ],
   "id": "bbe61a0e2fe8a50b",
   "outputs": [],
   "execution_count": null
  },
  {
   "metadata": {
    "jupyter": {
     "is_executing": true
    }
   },
   "cell_type": "code",
   "source": "shoes_fact",
   "id": "ea6133fc5376a607",
   "outputs": [],
   "execution_count": null
  },
  {
   "metadata": {
    "jupyter": {
     "is_executing": true
    }
   },
   "cell_type": "code",
   "source": "shoes_fact[[\"price\", \"currency\"]].value_counts()",
   "id": "75b3682bb7a4d7cc",
   "outputs": [],
   "execution_count": null
  },
  {
   "metadata": {
    "jupyter": {
     "is_executing": true
    }
   },
   "cell_type": "code",
   "source": "shoes_fact.dtypes",
   "id": "fc4c4e5e4852cb81",
   "outputs": [],
   "execution_count": null
  },
  {
   "metadata": {
    "jupyter": {
     "is_executing": true
    }
   },
   "cell_type": "code",
   "source": "shoes_fact[\"availability\"].value_counts()",
   "id": "3ad27cea2e27420e",
   "outputs": [],
   "execution_count": null
  },
  {
   "metadata": {
    "jupyter": {
     "is_executing": true
    }
   },
   "cell_type": "code",
   "source": "shoes_fact[\"country_code\"].value_counts()",
   "id": "83dd2ecd5c4da9c9",
   "outputs": [],
   "execution_count": null
  },
  {
   "metadata": {
    "jupyter": {
     "is_executing": true
    }
   },
   "cell_type": "code",
   "source": "shoes_fact[\"shoe_metric\"].value_counts()",
   "id": "2d61c85bc609088e",
   "outputs": [],
   "execution_count": null
  },
  {
   "metadata": {
    "jupyter": {
     "is_executing": true
    }
   },
   "cell_type": "code",
   "source": "# TODO: Color Binning",
   "id": "5afad2cf80ee1bbb",
   "outputs": [],
   "execution_count": null
  },
  {
   "metadata": {
    "jupyter": {
     "is_executing": true
    }
   },
   "cell_type": "code",
   "source": "# TODO: Univariate Analysis",
   "id": "6b712bfbd41d67d",
   "outputs": [],
   "execution_count": null
  },
  {
   "metadata": {
    "jupyter": {
     "is_executing": true
    }
   },
   "cell_type": "code",
   "source": "# TODO: Bivariate Analysis ",
   "id": "6531360da902b197",
   "outputs": [],
   "execution_count": null
  },
  {
   "metadata": {
    "jupyter": {
     "is_executing": true
    }
   },
   "cell_type": "code",
   "source": "# TODO: Multivariate Analysis",
   "id": "192abb7dae465422",
   "outputs": [],
   "execution_count": null
  }
 ],
 "metadata": {
  "kernelspec": {
   "display_name": "Python 3",
   "language": "python",
   "name": "python3"
  },
  "language_info": {
   "codemirror_mode": {
    "name": "ipython",
    "version": 2
   },
   "file_extension": ".py",
   "mimetype": "text/x-python",
   "name": "python",
   "nbconvert_exporter": "python",
   "pygments_lexer": "ipython2",
   "version": "2.7.6"
  }
 },
 "nbformat": 4,
 "nbformat_minor": 5
}
