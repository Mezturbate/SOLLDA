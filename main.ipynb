{
 "cells": [
  {
   "metadata": {},
   "cell_type": "markdown",
   "source": "# Adidas Webstore Shoe Data Analysis",
   "id": "6fc290e6a3266fac"
  },
  {
   "cell_type": "code",
   "id": "initial_id",
   "metadata": {
    "collapsed": true,
    "jupyter": {
     "is_executing": true
    }
   },
   "source": [
    "import pandas as pd\n",
    "import numpy as np\n",
    "import re"
   ],
   "outputs": [],
   "execution_count": null
  },
  {
   "metadata": {},
   "cell_type": "markdown",
   "source": "## Preprocessing",
   "id": "a400f50ddeaa9030"
  },
  {
   "metadata": {
    "ExecuteTime": {
     "end_time": "2025-03-16T15:39:43.259409Z",
     "start_time": "2025-03-16T15:39:43.030853Z"
    }
   },
   "cell_type": "code",
   "source": [
    "country_dim = pd.read_csv(\"country_dim.csv\")   \n",
    "shoes_dim = pd.read_csv(\"shoes_dim.csv\")\n",
    "shoes_fact = pd.read_csv(\"shoes_fact.csv\")  "
   ],
   "id": "d23f62d182edb6d8",
   "outputs": [],
   "execution_count": 42
  },
  {
   "metadata": {
    "ExecuteTime": {
     "end_time": "2025-03-16T15:39:43.264973Z",
     "start_time": "2025-03-16T15:39:43.260793Z"
    }
   },
   "cell_type": "code",
   "source": "shoes_dim.drop_duplicates(subset=\"id\", keep=\"first\", inplace=True)",
   "id": "d916981a97e65a2b",
   "outputs": [],
   "execution_count": 43
  },
  {
   "metadata": {
    "ExecuteTime": {
     "end_time": "2025-03-16T15:39:43.355261Z",
     "start_time": "2025-03-16T15:39:43.266113Z"
    }
   },
   "cell_type": "code",
   "source": "shoes_fact = pd.merge(shoes_fact, shoes_dim, on=\"id\")",
   "id": "b6429a3337251c6f",
   "outputs": [],
   "execution_count": 44
  },
  {
   "metadata": {
    "ExecuteTime": {
     "end_time": "2025-03-16T15:39:43.537601Z",
     "start_time": "2025-03-16T15:39:43.357187Z"
    }
   },
   "cell_type": "code",
   "source": "shoes_fact = pd.merge(shoes_fact, country_dim, on=\"country_code\")",
   "id": "fd2e94bc884eded9",
   "outputs": [],
   "execution_count": 45
  },
  {
   "metadata": {
    "ExecuteTime": {
     "end_time": "2025-03-16T15:39:43.543738Z",
     "start_time": "2025-03-16T15:39:43.539344Z"
    }
   },
   "cell_type": "code",
   "source": "shoes_fact.rename(columns={\"Unnamed: 0\": \"serial_no\"}, inplace=True)",
   "id": "6f29df2137c46ffa",
   "outputs": [],
   "execution_count": 46
  },
  {
   "metadata": {
    "ExecuteTime": {
     "end_time": "2025-03-16T15:39:43.602562Z",
     "start_time": "2025-03-16T15:39:43.545569Z"
    }
   },
   "cell_type": "code",
   "source": "shoes_fact.drop(columns={\"image_url\"}, inplace=True)",
   "id": "425c5c9f2f7a6b8",
   "outputs": [],
   "execution_count": 47
  },
  {
   "metadata": {
    "ExecuteTime": {
     "end_time": "2025-03-16T15:39:43.712740Z",
     "start_time": "2025-03-16T15:39:43.603409Z"
    }
   },
   "cell_type": "code",
   "source": [
    "category_mapping = {\n",
    "    \"us/soccer-shoes\": \"football-shoes\",\n",
    "    \"us/walking-shoes\": \"walking-shoes\",\n",
    "    \"us/athletic_sneakers\": \"athletic_sneakers\",\n",
    "    \"us/running-shoes\": \"running-shoes\",\n",
    "    \"us/workout-shoes\": \"gym_training-shoes\",\n",
    "    \"us/hiking-shoes\": \"hiking-shoes\",\n",
    "    \"us/tennis-shoes\": \"tennis-shoes\",\n",
    "    \"occer-shoes\": \"football-shoes\"\n",
    "}\n",
    "\n",
    "shoes_fact[\"category\"] = shoes_fact[\"category\"].replace(category_mapping)"
   ],
   "id": "eaaa96c18a694e41",
   "outputs": [],
   "execution_count": 48
  },
  {
   "metadata": {
    "ExecuteTime": {
     "end_time": "2025-03-16T15:39:45.151337Z",
     "start_time": "2025-03-16T15:39:43.713880Z"
    }
   },
   "cell_type": "code",
   "source": [
    "shoes_fact[\"size\"] = shoes_fact[\"size\"].str.replace(r\"(\\d+)\\s*1/3\", r\"\\1.33\", regex=True)\n",
    "shoes_fact[\"size\"] = shoes_fact[\"size\"].str.replace(r\"(\\d+)\\s*2/3\", r\"\\1.66\", regex=True)\n",
    "shoes_fact[\"size\"] = shoes_fact[\"size\"].str.replace(r\"(\\d+)\\s*1/2\", r\"\\1.5\", regex=True)"
   ],
   "id": "2006eb514728a022",
   "outputs": [],
   "execution_count": 49
  },
  {
   "metadata": {
    "ExecuteTime": {
     "end_time": "2025-03-16T15:39:45.338079Z",
     "start_time": "2025-03-16T15:39:45.153402Z"
    }
   },
   "cell_type": "code",
   "source": [
    "mask = shoes_fact[\"date\"].str.contains(\"-\", na=False)\n",
    "shoes_fact.loc[mask, \"date\"] = shoes_fact.loc[mask, \"date\"].str.split(\"-\").str[::-1].str.join(\"/\")"
   ],
   "id": "bbe61a0e2fe8a50b",
   "outputs": [],
   "execution_count": 50
  },
  {
   "metadata": {
    "ExecuteTime": {
     "end_time": "2025-03-16T15:39:45.350106Z",
     "start_time": "2025-03-16T15:39:45.340471Z"
    }
   },
   "cell_type": "code",
   "source": "shoes_fact",
   "id": "ea6133fc5376a607",
   "outputs": [
    {
     "data": {
      "text/plain": [
       "        serial_no      id  price  category   size  availability        date  \\\n",
       "0           63575  HP9426   60.0  sneakers     36             0  07/01/2025   \n",
       "1           63576  HP9426   60.0  sneakers  36.66             0  07/01/2025   \n",
       "2           63577  HP9426   60.0  sneakers  37.33             0  07/01/2025   \n",
       "3           63578  HP9426   60.0  sneakers     38             0  07/01/2025   \n",
       "4           63579  HP9426   60.0  sneakers  38.66             1  07/01/2025   \n",
       "...           ...     ...    ...       ...    ...           ...         ...   \n",
       "299151     847278  JI4476  160.0  sneakers  47.33             3  16/01/2025   \n",
       "299152     847279  JI4476  160.0  sneakers     48             0  16/01/2025   \n",
       "299153     847280  JI4476  160.0  sneakers  48.66             0  16/01/2025   \n",
       "299154     847281  JI4476  160.0  sneakers  49.33             2  16/01/2025   \n",
       "299155     847282  JI4476  160.0  sneakers  50.66             0  16/01/2025   \n",
       "\n",
       "       country_code                         name best_for_wear gender  \\\n",
       "0                DE           Breaknet 2.0 Schuh          City      U   \n",
       "1                DE           Breaknet 2.0 Schuh          City      U   \n",
       "2                DE           Breaknet 2.0 Schuh          City      U   \n",
       "3                DE           Breaknet 2.0 Schuh          City      U   \n",
       "4                DE           Breaknet 2.0 Schuh          City      U   \n",
       "...             ...                          ...           ...    ...   \n",
       "299151           BE  Adizero Boston 12 Laufschuh        Racing      U   \n",
       "299152           BE  Adizero Boston 12 Laufschuh        Racing      U   \n",
       "299153           BE  Adizero Boston 12 Laufschuh        Racing      U   \n",
       "299154           BE  Adizero Boston 12 Laufschuh        Racing      U   \n",
       "299155           BE  Adizero Boston 12 Laufschuh        Racing      U   \n",
       "\n",
       "       dominant_color  sub_color1   sub_color2 currency shoe_metric  \n",
       "0         Cloud White  Core Black  Cloud White     euro          eu  \n",
       "1         Cloud White  Core Black  Cloud White     euro          eu  \n",
       "2         Cloud White  Core Black  Cloud White     euro          eu  \n",
       "3         Cloud White  Core Black  Cloud White     euro          eu  \n",
       "4         Cloud White  Core Black  Cloud White     euro          eu  \n",
       "...               ...         ...          ...      ...         ...  \n",
       "299151     Core White   Dark Blue    Pure Ruby     euro          eu  \n",
       "299152     Core White   Dark Blue    Pure Ruby     euro          eu  \n",
       "299153     Core White   Dark Blue    Pure Ruby     euro          eu  \n",
       "299154     Core White   Dark Blue    Pure Ruby     euro          eu  \n",
       "299155     Core White   Dark Blue    Pure Ruby     euro          eu  \n",
       "\n",
       "[299156 rows x 16 columns]"
      ],
      "text/html": [
       "<div>\n",
       "<style scoped>\n",
       "    .dataframe tbody tr th:only-of-type {\n",
       "        vertical-align: middle;\n",
       "    }\n",
       "\n",
       "    .dataframe tbody tr th {\n",
       "        vertical-align: top;\n",
       "    }\n",
       "\n",
       "    .dataframe thead th {\n",
       "        text-align: right;\n",
       "    }\n",
       "</style>\n",
       "<table border=\"1\" class=\"dataframe\">\n",
       "  <thead>\n",
       "    <tr style=\"text-align: right;\">\n",
       "      <th></th>\n",
       "      <th>serial_no</th>\n",
       "      <th>id</th>\n",
       "      <th>price</th>\n",
       "      <th>category</th>\n",
       "      <th>size</th>\n",
       "      <th>availability</th>\n",
       "      <th>date</th>\n",
       "      <th>country_code</th>\n",
       "      <th>name</th>\n",
       "      <th>best_for_wear</th>\n",
       "      <th>gender</th>\n",
       "      <th>dominant_color</th>\n",
       "      <th>sub_color1</th>\n",
       "      <th>sub_color2</th>\n",
       "      <th>currency</th>\n",
       "      <th>shoe_metric</th>\n",
       "    </tr>\n",
       "  </thead>\n",
       "  <tbody>\n",
       "    <tr>\n",
       "      <th>0</th>\n",
       "      <td>63575</td>\n",
       "      <td>HP9426</td>\n",
       "      <td>60.0</td>\n",
       "      <td>sneakers</td>\n",
       "      <td>36</td>\n",
       "      <td>0</td>\n",
       "      <td>07/01/2025</td>\n",
       "      <td>DE</td>\n",
       "      <td>Breaknet 2.0 Schuh</td>\n",
       "      <td>City</td>\n",
       "      <td>U</td>\n",
       "      <td>Cloud White</td>\n",
       "      <td>Core Black</td>\n",
       "      <td>Cloud White</td>\n",
       "      <td>euro</td>\n",
       "      <td>eu</td>\n",
       "    </tr>\n",
       "    <tr>\n",
       "      <th>1</th>\n",
       "      <td>63576</td>\n",
       "      <td>HP9426</td>\n",
       "      <td>60.0</td>\n",
       "      <td>sneakers</td>\n",
       "      <td>36.66</td>\n",
       "      <td>0</td>\n",
       "      <td>07/01/2025</td>\n",
       "      <td>DE</td>\n",
       "      <td>Breaknet 2.0 Schuh</td>\n",
       "      <td>City</td>\n",
       "      <td>U</td>\n",
       "      <td>Cloud White</td>\n",
       "      <td>Core Black</td>\n",
       "      <td>Cloud White</td>\n",
       "      <td>euro</td>\n",
       "      <td>eu</td>\n",
       "    </tr>\n",
       "    <tr>\n",
       "      <th>2</th>\n",
       "      <td>63577</td>\n",
       "      <td>HP9426</td>\n",
       "      <td>60.0</td>\n",
       "      <td>sneakers</td>\n",
       "      <td>37.33</td>\n",
       "      <td>0</td>\n",
       "      <td>07/01/2025</td>\n",
       "      <td>DE</td>\n",
       "      <td>Breaknet 2.0 Schuh</td>\n",
       "      <td>City</td>\n",
       "      <td>U</td>\n",
       "      <td>Cloud White</td>\n",
       "      <td>Core Black</td>\n",
       "      <td>Cloud White</td>\n",
       "      <td>euro</td>\n",
       "      <td>eu</td>\n",
       "    </tr>\n",
       "    <tr>\n",
       "      <th>3</th>\n",
       "      <td>63578</td>\n",
       "      <td>HP9426</td>\n",
       "      <td>60.0</td>\n",
       "      <td>sneakers</td>\n",
       "      <td>38</td>\n",
       "      <td>0</td>\n",
       "      <td>07/01/2025</td>\n",
       "      <td>DE</td>\n",
       "      <td>Breaknet 2.0 Schuh</td>\n",
       "      <td>City</td>\n",
       "      <td>U</td>\n",
       "      <td>Cloud White</td>\n",
       "      <td>Core Black</td>\n",
       "      <td>Cloud White</td>\n",
       "      <td>euro</td>\n",
       "      <td>eu</td>\n",
       "    </tr>\n",
       "    <tr>\n",
       "      <th>4</th>\n",
       "      <td>63579</td>\n",
       "      <td>HP9426</td>\n",
       "      <td>60.0</td>\n",
       "      <td>sneakers</td>\n",
       "      <td>38.66</td>\n",
       "      <td>1</td>\n",
       "      <td>07/01/2025</td>\n",
       "      <td>DE</td>\n",
       "      <td>Breaknet 2.0 Schuh</td>\n",
       "      <td>City</td>\n",
       "      <td>U</td>\n",
       "      <td>Cloud White</td>\n",
       "      <td>Core Black</td>\n",
       "      <td>Cloud White</td>\n",
       "      <td>euro</td>\n",
       "      <td>eu</td>\n",
       "    </tr>\n",
       "    <tr>\n",
       "      <th>...</th>\n",
       "      <td>...</td>\n",
       "      <td>...</td>\n",
       "      <td>...</td>\n",
       "      <td>...</td>\n",
       "      <td>...</td>\n",
       "      <td>...</td>\n",
       "      <td>...</td>\n",
       "      <td>...</td>\n",
       "      <td>...</td>\n",
       "      <td>...</td>\n",
       "      <td>...</td>\n",
       "      <td>...</td>\n",
       "      <td>...</td>\n",
       "      <td>...</td>\n",
       "      <td>...</td>\n",
       "      <td>...</td>\n",
       "    </tr>\n",
       "    <tr>\n",
       "      <th>299151</th>\n",
       "      <td>847278</td>\n",
       "      <td>JI4476</td>\n",
       "      <td>160.0</td>\n",
       "      <td>sneakers</td>\n",
       "      <td>47.33</td>\n",
       "      <td>3</td>\n",
       "      <td>16/01/2025</td>\n",
       "      <td>BE</td>\n",
       "      <td>Adizero Boston 12 Laufschuh</td>\n",
       "      <td>Racing</td>\n",
       "      <td>U</td>\n",
       "      <td>Core White</td>\n",
       "      <td>Dark Blue</td>\n",
       "      <td>Pure Ruby</td>\n",
       "      <td>euro</td>\n",
       "      <td>eu</td>\n",
       "    </tr>\n",
       "    <tr>\n",
       "      <th>299152</th>\n",
       "      <td>847279</td>\n",
       "      <td>JI4476</td>\n",
       "      <td>160.0</td>\n",
       "      <td>sneakers</td>\n",
       "      <td>48</td>\n",
       "      <td>0</td>\n",
       "      <td>16/01/2025</td>\n",
       "      <td>BE</td>\n",
       "      <td>Adizero Boston 12 Laufschuh</td>\n",
       "      <td>Racing</td>\n",
       "      <td>U</td>\n",
       "      <td>Core White</td>\n",
       "      <td>Dark Blue</td>\n",
       "      <td>Pure Ruby</td>\n",
       "      <td>euro</td>\n",
       "      <td>eu</td>\n",
       "    </tr>\n",
       "    <tr>\n",
       "      <th>299153</th>\n",
       "      <td>847280</td>\n",
       "      <td>JI4476</td>\n",
       "      <td>160.0</td>\n",
       "      <td>sneakers</td>\n",
       "      <td>48.66</td>\n",
       "      <td>0</td>\n",
       "      <td>16/01/2025</td>\n",
       "      <td>BE</td>\n",
       "      <td>Adizero Boston 12 Laufschuh</td>\n",
       "      <td>Racing</td>\n",
       "      <td>U</td>\n",
       "      <td>Core White</td>\n",
       "      <td>Dark Blue</td>\n",
       "      <td>Pure Ruby</td>\n",
       "      <td>euro</td>\n",
       "      <td>eu</td>\n",
       "    </tr>\n",
       "    <tr>\n",
       "      <th>299154</th>\n",
       "      <td>847281</td>\n",
       "      <td>JI4476</td>\n",
       "      <td>160.0</td>\n",
       "      <td>sneakers</td>\n",
       "      <td>49.33</td>\n",
       "      <td>2</td>\n",
       "      <td>16/01/2025</td>\n",
       "      <td>BE</td>\n",
       "      <td>Adizero Boston 12 Laufschuh</td>\n",
       "      <td>Racing</td>\n",
       "      <td>U</td>\n",
       "      <td>Core White</td>\n",
       "      <td>Dark Blue</td>\n",
       "      <td>Pure Ruby</td>\n",
       "      <td>euro</td>\n",
       "      <td>eu</td>\n",
       "    </tr>\n",
       "    <tr>\n",
       "      <th>299155</th>\n",
       "      <td>847282</td>\n",
       "      <td>JI4476</td>\n",
       "      <td>160.0</td>\n",
       "      <td>sneakers</td>\n",
       "      <td>50.66</td>\n",
       "      <td>0</td>\n",
       "      <td>16/01/2025</td>\n",
       "      <td>BE</td>\n",
       "      <td>Adizero Boston 12 Laufschuh</td>\n",
       "      <td>Racing</td>\n",
       "      <td>U</td>\n",
       "      <td>Core White</td>\n",
       "      <td>Dark Blue</td>\n",
       "      <td>Pure Ruby</td>\n",
       "      <td>euro</td>\n",
       "      <td>eu</td>\n",
       "    </tr>\n",
       "  </tbody>\n",
       "</table>\n",
       "<p>299156 rows × 16 columns</p>\n",
       "</div>"
      ]
     },
     "execution_count": 51,
     "metadata": {},
     "output_type": "execute_result"
    }
   ],
   "execution_count": 51
  },
  {
   "metadata": {
    "ExecuteTime": {
     "end_time": "2025-03-16T15:39:45.390172Z",
     "start_time": "2025-03-16T15:39:45.351274Z"
    }
   },
   "cell_type": "code",
   "source": "shoes_fact[[\"price\", \"currency\"]].value_counts()",
   "id": "75b3682bb7a4d7cc",
   "outputs": [
    {
     "data": {
      "text/plain": [
       "price  currency\n",
       "130.0  euro        11790\n",
       "80.0   euro        11111\n",
       "140.0  euro         9839\n",
       "180.0  euro         9579\n",
       "120.0  euro         8928\n",
       "                   ...  \n",
       "26.0   usd            12\n",
       "21.6   euro           12\n",
       "31.0   usd            12\n",
       "35.4   euro           11\n",
       "38.0   pounds          8\n",
       "Name: count, Length: 349, dtype: int64"
      ]
     },
     "execution_count": 52,
     "metadata": {},
     "output_type": "execute_result"
    }
   ],
   "execution_count": 52
  },
  {
   "metadata": {
    "ExecuteTime": {
     "end_time": "2025-03-16T15:39:45.396491Z",
     "start_time": "2025-03-16T15:39:45.391677Z"
    }
   },
   "cell_type": "code",
   "source": "shoes_fact.dtypes",
   "id": "fc4c4e5e4852cb81",
   "outputs": [
    {
     "data": {
      "text/plain": [
       "serial_no           int64\n",
       "id                 object\n",
       "price             float64\n",
       "category           object\n",
       "size               object\n",
       "availability        int64\n",
       "date               object\n",
       "country_code       object\n",
       "name               object\n",
       "best_for_wear      object\n",
       "gender             object\n",
       "dominant_color     object\n",
       "sub_color1         object\n",
       "sub_color2         object\n",
       "currency           object\n",
       "shoe_metric        object\n",
       "dtype: object"
      ]
     },
     "execution_count": 53,
     "metadata": {},
     "output_type": "execute_result"
    }
   ],
   "execution_count": 53
  },
  {
   "metadata": {
    "ExecuteTime": {
     "end_time": "2025-03-16T15:39:45.405189Z",
     "start_time": "2025-03-16T15:39:45.398226Z"
    }
   },
   "cell_type": "code",
   "source": "shoes_fact[\"availability\"].value_counts()",
   "id": "3ad27cea2e27420e",
   "outputs": [
    {
     "data": {
      "text/plain": [
       "availability\n",
       "0     135262\n",
       "15     91811\n",
       "1      17135\n",
       "2       8827\n",
       "3       6665\n",
       "4       5382\n",
       "5       4741\n",
       "6       4090\n",
       "7       4081\n",
       "8       3803\n",
       "9       3660\n",
       "10      3490\n",
       "11      2713\n",
       "12      2618\n",
       "13      2507\n",
       "14      2371\n",
       "Name: count, dtype: int64"
      ]
     },
     "execution_count": 54,
     "metadata": {},
     "output_type": "execute_result"
    }
   ],
   "execution_count": 54
  },
  {
   "metadata": {
    "ExecuteTime": {
     "end_time": "2025-03-16T15:39:45.429182Z",
     "start_time": "2025-03-16T15:39:45.405913Z"
    }
   },
   "cell_type": "code",
   "source": "shoes_fact[\"country_code\"].value_counts()",
   "id": "83dd2ecd5c4da9c9",
   "outputs": [
    {
     "data": {
      "text/plain": [
       "country_code\n",
       "DE    216202\n",
       "US     53368\n",
       "BE     26453\n",
       "UK      3133\n",
       "Name: count, dtype: int64"
      ]
     },
     "execution_count": 55,
     "metadata": {},
     "output_type": "execute_result"
    }
   ],
   "execution_count": 55
  },
  {
   "metadata": {
    "ExecuteTime": {
     "end_time": "2025-03-16T15:39:45.447102Z",
     "start_time": "2025-03-16T15:39:45.430610Z"
    }
   },
   "cell_type": "code",
   "source": "shoes_fact[\"shoe_metric\"].value_counts()",
   "id": "2d61c85bc609088e",
   "outputs": [
    {
     "data": {
      "text/plain": [
       "shoe_metric\n",
       "eu     242655\n",
       "usa     53368\n",
       "uk       3133\n",
       "Name: count, dtype: int64"
      ]
     },
     "execution_count": 56,
     "metadata": {},
     "output_type": "execute_result"
    }
   ],
   "execution_count": 56
  },
  {
   "metadata": {
    "ExecuteTime": {
     "end_time": "2025-03-16T15:39:45.450878Z",
     "start_time": "2025-03-16T15:39:45.448532Z"
    }
   },
   "cell_type": "code",
   "source": "# TODO: Color Binning",
   "id": "5afad2cf80ee1bbb",
   "outputs": [],
   "execution_count": 57
  },
  {
   "metadata": {
    "ExecuteTime": {
     "end_time": "2025-03-16T15:39:45.455080Z",
     "start_time": "2025-03-16T15:39:45.451736Z"
    }
   },
   "cell_type": "code",
   "source": "# TODO: Univariate Analysis",
   "id": "6b712bfbd41d67d",
   "outputs": [],
   "execution_count": 58
  },
  {
   "metadata": {
    "ExecuteTime": {
     "end_time": "2025-03-16T15:39:45.460724Z",
     "start_time": "2025-03-16T15:39:45.457333Z"
    }
   },
   "cell_type": "code",
   "source": "# TODO: Bivariate Analysis ",
   "id": "6531360da902b197",
   "outputs": [],
   "execution_count": 59
  },
  {
   "metadata": {
    "ExecuteTime": {
     "end_time": "2025-03-16T15:39:45.465371Z",
     "start_time": "2025-03-16T15:39:45.462860Z"
    }
   },
   "cell_type": "code",
   "source": "# TODO: Multivariate Analysis",
   "id": "192abb7dae465422",
   "outputs": [],
   "execution_count": 60
  }
 ],
 "metadata": {
  "kernelspec": {
   "display_name": "Python 3",
   "language": "python",
   "name": "python3"
  },
  "language_info": {
   "codemirror_mode": {
    "name": "ipython",
    "version": 2
   },
   "file_extension": ".py",
   "mimetype": "text/x-python",
   "name": "python",
   "nbconvert_exporter": "python",
   "pygments_lexer": "ipython2",
   "version": "2.7.6"
  }
 },
 "nbformat": 4,
 "nbformat_minor": 5
}
