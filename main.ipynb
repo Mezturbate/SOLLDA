{
 "cells": [
  {
   "metadata": {},
   "cell_type": "markdown",
   "source": "# Adidas Webstore Shoe Data Analysis",
   "id": "6fc290e6a3266fac"
  },
  {
   "cell_type": "code",
   "id": "initial_id",
   "metadata": {
    "collapsed": true,
    "ExecuteTime": {
     "end_time": "2025-03-03T14:58:04.054232Z",
     "start_time": "2025-03-03T14:58:04.037918Z"
    }
   },
   "source": "import pandas as pd",
   "outputs": [],
   "execution_count": 29
  },
  {
   "metadata": {},
   "cell_type": "markdown",
   "source": "## Preprocessing",
   "id": "a400f50ddeaa9030"
  },
  {
   "metadata": {
    "ExecuteTime": {
     "end_time": "2025-03-03T14:58:04.570247Z",
     "start_time": "2025-03-03T14:58:04.085033Z"
    }
   },
   "cell_type": "code",
   "source": [
    "country_dim = pd.read_csv(\"country_dim.csv\")   \n",
    "shoes_dim = pd.read_csv(\"shoes_dim.csv\")\n",
    "shoes_fact = pd.read_csv(\"shoes_fact.csv\")  "
   ],
   "id": "d23f62d182edb6d8",
   "outputs": [],
   "execution_count": 30
  },
  {
   "metadata": {
    "ExecuteTime": {
     "end_time": "2025-03-03T14:58:04.584165Z",
     "start_time": "2025-03-03T14:58:04.573180Z"
    }
   },
   "cell_type": "code",
   "source": "shoes_dim.drop_duplicates(subset=\"id\", keep=\"first\", inplace=True)",
   "id": "d916981a97e65a2b",
   "outputs": [],
   "execution_count": 31
  },
  {
   "metadata": {
    "ExecuteTime": {
     "end_time": "2025-03-03T14:58:04.694484Z",
     "start_time": "2025-03-03T14:58:04.585389Z"
    }
   },
   "cell_type": "code",
   "source": "shoes_fact = pd.merge(shoes_fact, shoes_dim, on=\"id\")",
   "id": "b6429a3337251c6f",
   "outputs": [],
   "execution_count": 32
  },
  {
   "metadata": {
    "ExecuteTime": {
     "end_time": "2025-03-03T14:58:04.873445Z",
     "start_time": "2025-03-03T14:58:04.696144Z"
    }
   },
   "cell_type": "code",
   "source": "shoes_fact = pd.merge(shoes_fact, country_dim, on=\"country_code\")",
   "id": "fd2e94bc884eded9",
   "outputs": [],
   "execution_count": 33
  },
  {
   "metadata": {
    "ExecuteTime": {
     "end_time": "2025-03-03T14:58:04.878227Z",
     "start_time": "2025-03-03T14:58:04.874426Z"
    }
   },
   "cell_type": "code",
   "source": "shoes_fact.rename(columns={\"Unnamed: 0\": \"serial_no\"}, inplace=True)",
   "id": "6f29df2137c46ffa",
   "outputs": [],
   "execution_count": 34
  },
  {
   "metadata": {
    "ExecuteTime": {
     "end_time": "2025-03-03T14:58:58.753555Z",
     "start_time": "2025-03-03T14:58:58.544632Z"
    }
   },
   "cell_type": "code",
   "source": "shoes_fact.drop(columns={\"image_url\"}, inplace=True)",
   "id": "425c5c9f2f7a6b8",
   "outputs": [],
   "execution_count": 36
  },
  {
   "metadata": {
    "ExecuteTime": {
     "end_time": "2025-03-03T15:22:40.337925Z",
     "start_time": "2025-03-03T15:22:40.168184Z"
    }
   },
   "cell_type": "code",
   "source": [
    "category_mapping = {\n",
    "    \"us/soccer-shoes\": \"football-shoes\",\n",
    "    \"us/walking-shoes\": \"walking-shoes\",\n",
    "    \"us/athletic_sneakers\": \"athletic_sneakers\",\n",
    "    \"us/running-shoes\": \"running-shoes\",\n",
    "    \"us/workout-shoes\": \"gym_training-shoes\",\n",
    "    \"us/hiking-shoes\": \"hiking-shoes\",\n",
    "    \"us/tennis-shoes\": \"tennis-shoes\",\n",
    "    \"occer-shoes\": \"football-shoes\"\n",
    "}\n",
    "\n",
    "shoes_fact[\"category\"] = shoes_fact[\"category\"].replace(category_mapping)"
   ],
   "id": "eaaa96c18a694e41",
   "outputs": [],
   "execution_count": 71
  }
 ],
 "metadata": {
  "kernelspec": {
   "display_name": "Python 3",
   "language": "python",
   "name": "python3"
  },
  "language_info": {
   "codemirror_mode": {
    "name": "ipython",
    "version": 2
   },
   "file_extension": ".py",
   "mimetype": "text/x-python",
   "name": "python",
   "nbconvert_exporter": "python",
   "pygments_lexer": "ipython2",
   "version": "2.7.6"
  }
 },
 "nbformat": 4,
 "nbformat_minor": 5
}
